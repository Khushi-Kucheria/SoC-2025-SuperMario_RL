{
 "cells": [
  {
   "cell_type": "code",
   "execution_count": null,
   "id": "7b07818a",
   "metadata": {},
   "outputs": [
    {
     "data": {
      "text/plain": [
       "(43, {'prob': 1.0, 'action_mask': array([1, 0, 1, 0, 0, 0], dtype=int8)})"
      ]
     },
     "execution_count": 108,
     "metadata": {},
     "output_type": "execute_result"
    }
   ],
   "source": [
    "import numpy as np\n",
    "import gymnasium as gym\n",
    "\n",
    "env = gym.make(\"Taxi-v3\")\n",
    "env.reset()"
   ]
  },
  {
   "cell_type": "code",
   "execution_count": 109,
   "id": "987322b9",
   "metadata": {},
   "outputs": [
    {
     "name": "stdout",
     "output_type": "stream",
     "text": [
      "500\n",
      "6\n"
     ]
    }
   ],
   "source": [
    "n_states  = env.observation_space.n   # 500\n",
    "n_actions = env.action_space.n        # 6\n",
    "print(env.observation_space.n)\n",
    "print(env.action_space.n)\n",
    "q_table   = np.zeros((n_states, n_actions))"
   ]
  },
  {
   "cell_type": "code",
   "execution_count": 110,
   "id": "7d91dd2e",
   "metadata": {},
   "outputs": [],
   "source": [
    "alpha   = 0.1    # learning rate\n",
    "gamma   = 0.6    # discount factor\n",
    "epsilon = 0.1    # exploration rate\n",
    "episodes = 10000"
   ]
  },
  {
   "cell_type": "code",
   "execution_count": 115,
   "id": "590d6e2e",
   "metadata": {},
   "outputs": [],
   "source": [
    "total_timesteps = []\n",
    "total_penalties = []\n",
    "total_rewards = []\n"
   ]
  },
  {
   "cell_type": "code",
   "execution_count": 116,
   "id": "c95198d3",
   "metadata": {},
   "outputs": [],
   "source": [
    "\n",
    "for ep in range(episodes):\n",
    "    state,_ = env.reset()\n",
    "    done = False\n",
    "    \n",
    "    timesteps=0\n",
    "    penalties=0\n",
    "    total_reward=0\n",
    "\n",
    "    while not done:\n",
    "        # ε-greedy action selection\n",
    "        if np.random.uniform(0, 1) < epsilon:\n",
    "            action = env.action_space.sample() #explore action space\n",
    "        else:\n",
    "            action = np.argmax(q_table[state]) #use learned values\n",
    "\n",
    "        next_state, reward, terminated, truncated, info = env.step(action)\n",
    "        done = terminated\n",
    "        total_reward += reward\n",
    "\n",
    "        if reward == -10:\n",
    "            penalties += 1\n",
    "\n",
    "        # Q-learning update\n",
    "        old_value = q_table[state, action]\n",
    "        next_max  = np.max(q_table[next_state])\n",
    "        q_table[state, action] = old_value + alpha * (reward + gamma * next_max - old_value)\n",
    "\n",
    "        state = next_state\n",
    "        timesteps += 1\n",
    "\n",
    "    # record\n",
    "    total_timesteps.append(timesteps)\n",
    "    total_penalties.append(penalties)\n",
    "    total_rewards.append(total_reward)"
   ]
  },
  {
   "cell_type": "code",
   "execution_count": 117,
   "id": "d940eafc",
   "metadata": {},
   "outputs": [
    {
     "name": "stdout",
     "output_type": "stream",
     "text": [
      "Results after 10000 episodes:\n",
      "Average timesteps per episode: 14.80\n",
      "Average penalties per episode: 0.44\n",
      "Average reward per episode:    2.20\n"
     ]
    }
   ],
   "source": [
    "avg_timesteps = sum(total_timesteps) / episodes\n",
    "avg_penalties = sum(total_penalties) / episodes\n",
    "avg_rewards   = sum(total_rewards) / episodes\n",
    "\n",
    "# Display results\n",
    "print(\"Results after\", episodes, \"episodes:\")\n",
    "print(f\"Average timesteps per episode: {avg_timesteps:.2f}\")\n",
    "print(f\"Average penalties per episode: {avg_penalties:.2f}\")\n",
    "print(f\"Average reward per episode:    {avg_rewards:.2f}\")"
   ]
  }
 ],
 "metadata": {
  "kernelspec": {
   "display_name": "Python 3",
   "language": "python",
   "name": "python3"
  },
  "language_info": {
   "codemirror_mode": {
    "name": "ipython",
    "version": 3
   },
   "file_extension": ".py",
   "mimetype": "text/x-python",
   "name": "python",
   "nbconvert_exporter": "python",
   "pygments_lexer": "ipython3",
   "version": "3.13.3"
  }
 },
 "nbformat": 4,
 "nbformat_minor": 5
}
